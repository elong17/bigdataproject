{
 "cells": [
  {
   "cell_type": "code",
   "execution_count": 1,
   "metadata": {
    "collapsed": false
   },
   "outputs": [],
   "source": [
    "import pandas as pd\n",
    "import numpy as np\n",
    "import matplotlib.pylab as plt\n",
    "from itertools import cycle, islice\n",
    "import weightedcalcs as wc\n",
    "\n",
    "# This line lets us plot on our ipython notebook\n",
    "%matplotlib inline"
   ]
  },
  {
   "cell_type": "code",
   "execution_count": 2,
   "metadata": {
    "collapsed": false
   },
   "outputs": [
    {
     "data": {
      "text/html": [
       "<div>\n",
       "<table border=\"1\" class=\"dataframe\">\n",
       "  <thead>\n",
       "    <tr style=\"text-align: right;\">\n",
       "      <th></th>\n",
       "      <th>RT</th>\n",
       "      <th>SERIALNO</th>\n",
       "      <th>DIVISION</th>\n",
       "      <th>PUMA</th>\n",
       "      <th>REGION</th>\n",
       "      <th>ST</th>\n",
       "      <th>ADJHSG</th>\n",
       "      <th>ADJINC</th>\n",
       "      <th>WGTP</th>\n",
       "      <th>NP</th>\n",
       "      <th>...</th>\n",
       "      <th>wgtp71</th>\n",
       "      <th>wgtp72</th>\n",
       "      <th>wgtp73</th>\n",
       "      <th>wgtp74</th>\n",
       "      <th>wgtp75</th>\n",
       "      <th>wgtp76</th>\n",
       "      <th>wgtp77</th>\n",
       "      <th>wgtp78</th>\n",
       "      <th>wgtp79</th>\n",
       "      <th>wgtp80</th>\n",
       "    </tr>\n",
       "  </thead>\n",
       "  <tbody>\n",
       "    <tr>\n",
       "      <th>0</th>\n",
       "      <td>H</td>\n",
       "      <td>26</td>\n",
       "      <td>2</td>\n",
       "      <td>2600</td>\n",
       "      <td>1</td>\n",
       "      <td>42</td>\n",
       "      <td>1000000</td>\n",
       "      <td>1001264</td>\n",
       "      <td>37</td>\n",
       "      <td>1</td>\n",
       "      <td>...</td>\n",
       "      <td>31</td>\n",
       "      <td>37</td>\n",
       "      <td>33</td>\n",
       "      <td>38</td>\n",
       "      <td>12</td>\n",
       "      <td>11</td>\n",
       "      <td>34</td>\n",
       "      <td>36</td>\n",
       "      <td>33</td>\n",
       "      <td>35</td>\n",
       "    </tr>\n",
       "    <tr>\n",
       "      <th>1</th>\n",
       "      <td>H</td>\n",
       "      <td>31</td>\n",
       "      <td>2</td>\n",
       "      <td>3403</td>\n",
       "      <td>1</td>\n",
       "      <td>42</td>\n",
       "      <td>1000000</td>\n",
       "      <td>1001264</td>\n",
       "      <td>206</td>\n",
       "      <td>3</td>\n",
       "      <td>...</td>\n",
       "      <td>205</td>\n",
       "      <td>209</td>\n",
       "      <td>56</td>\n",
       "      <td>216</td>\n",
       "      <td>68</td>\n",
       "      <td>224</td>\n",
       "      <td>235</td>\n",
       "      <td>196</td>\n",
       "      <td>369</td>\n",
       "      <td>319</td>\n",
       "    </tr>\n",
       "    <tr>\n",
       "      <th>2</th>\n",
       "      <td>H</td>\n",
       "      <td>35</td>\n",
       "      <td>2</td>\n",
       "      <td>3603</td>\n",
       "      <td>1</td>\n",
       "      <td>42</td>\n",
       "      <td>1000000</td>\n",
       "      <td>1001264</td>\n",
       "      <td>30</td>\n",
       "      <td>2</td>\n",
       "      <td>...</td>\n",
       "      <td>54</td>\n",
       "      <td>51</td>\n",
       "      <td>8</td>\n",
       "      <td>38</td>\n",
       "      <td>31</td>\n",
       "      <td>10</td>\n",
       "      <td>31</td>\n",
       "      <td>9</td>\n",
       "      <td>33</td>\n",
       "      <td>10</td>\n",
       "    </tr>\n",
       "    <tr>\n",
       "      <th>3</th>\n",
       "      <td>H</td>\n",
       "      <td>44</td>\n",
       "      <td>2</td>\n",
       "      <td>200</td>\n",
       "      <td>1</td>\n",
       "      <td>42</td>\n",
       "      <td>1000000</td>\n",
       "      <td>1001264</td>\n",
       "      <td>47</td>\n",
       "      <td>2</td>\n",
       "      <td>...</td>\n",
       "      <td>53</td>\n",
       "      <td>46</td>\n",
       "      <td>54</td>\n",
       "      <td>74</td>\n",
       "      <td>54</td>\n",
       "      <td>16</td>\n",
       "      <td>39</td>\n",
       "      <td>16</td>\n",
       "      <td>10</td>\n",
       "      <td>43</td>\n",
       "    </tr>\n",
       "    <tr>\n",
       "      <th>4</th>\n",
       "      <td>H</td>\n",
       "      <td>52</td>\n",
       "      <td>2</td>\n",
       "      <td>1200</td>\n",
       "      <td>1</td>\n",
       "      <td>42</td>\n",
       "      <td>1000000</td>\n",
       "      <td>1001264</td>\n",
       "      <td>111</td>\n",
       "      <td>3</td>\n",
       "      <td>...</td>\n",
       "      <td>145</td>\n",
       "      <td>219</td>\n",
       "      <td>24</td>\n",
       "      <td>137</td>\n",
       "      <td>106</td>\n",
       "      <td>164</td>\n",
       "      <td>36</td>\n",
       "      <td>99</td>\n",
       "      <td>119</td>\n",
       "      <td>167</td>\n",
       "    </tr>\n",
       "  </tbody>\n",
       "</table>\n",
       "<p>5 rows × 235 columns</p>\n",
       "</div>"
      ],
      "text/plain": [
       "  RT  SERIALNO  DIVISION  PUMA  REGION  ST   ADJHSG   ADJINC  WGTP  NP  \\\n",
       "0  H        26         2  2600       1  42  1000000  1001264    37   1   \n",
       "1  H        31         2  3403       1  42  1000000  1001264   206   3   \n",
       "2  H        35         2  3603       1  42  1000000  1001264    30   2   \n",
       "3  H        44         2   200       1  42  1000000  1001264    47   2   \n",
       "4  H        52         2  1200       1  42  1000000  1001264   111   3   \n",
       "\n",
       "    ...    wgtp71  wgtp72  wgtp73  wgtp74  wgtp75  wgtp76  wgtp77  wgtp78  \\\n",
       "0   ...        31      37      33      38      12      11      34      36   \n",
       "1   ...       205     209      56     216      68     224     235     196   \n",
       "2   ...        54      51       8      38      31      10      31       9   \n",
       "3   ...        53      46      54      74      54      16      39      16   \n",
       "4   ...       145     219      24     137     106     164      36      99   \n",
       "\n",
       "   wgtp79  wgtp80  \n",
       "0      33      35  \n",
       "1     369     319  \n",
       "2      33      10  \n",
       "3      10      43  \n",
       "4     119     167  \n",
       "\n",
       "[5 rows x 235 columns]"
      ]
     },
     "execution_count": 2,
     "metadata": {},
     "output_type": "execute_result"
    }
   ],
   "source": [
    "#Load data\n",
    "df_15 = pd.read_table(\"proj_data/ss15hpa_1yr.csv\", sep=',', low_memory=False)\n",
    "\n",
    "#preview first 5 records...\n",
    "df_15.head()"
   ]
  },
  {
   "cell_type": "code",
   "execution_count": 3,
   "metadata": {
    "collapsed": false
   },
   "outputs": [
    {
     "data": {
      "text/plain": [
       "(63762, 235)"
      ]
     },
     "execution_count": 3,
     "metadata": {},
     "output_type": "execute_result"
    }
   ],
   "source": [
    "df_15.shape"
   ]
  },
  {
   "cell_type": "code",
   "execution_count": 4,
   "metadata": {
    "collapsed": false
   },
   "outputs": [
    {
     "name": "stdout",
     "output_type": "stream",
     "text": [
      "total columns: 235\n"
     ]
    }
   ],
   "source": [
    "print(\"total columns:\", len(df_15.columns))"
   ]
  },
  {
   "cell_type": "code",
   "execution_count": 5,
   "metadata": {
    "collapsed": false
   },
   "outputs": [
    {
     "data": {
      "text/plain": [
       "dtype('int64')"
      ]
     },
     "execution_count": 5,
     "metadata": {},
     "output_type": "execute_result"
    }
   ],
   "source": [
    "df_15['PUMA'].dtype"
   ]
  },
  {
   "cell_type": "code",
   "execution_count": 6,
   "metadata": {
    "collapsed": true
   },
   "outputs": [],
   "source": [
    "### NOTE PULL IN SMOCP (selected monthly owner costs) -- Note: Use ADJHSG to adjust SMOCP to constant dollars.\n",
    "### Pull in NP (Number of person records following this housing record) -- I believe this is right one for determining the poverty guideline...\n",
    "### Pull in TYPE (type of unit) OR BLD (units in strcuture?)"
   ]
  },
  {
   "cell_type": "code",
   "execution_count": 6,
   "metadata": {
    "collapsed": false
   },
   "outputs": [
    {
     "data": {
      "text/html": [
       "<div>\n",
       "<table border=\"1\" class=\"dataframe\">\n",
       "  <thead>\n",
       "    <tr style=\"text-align: right;\">\n",
       "      <th></th>\n",
       "      <th>SERIALNO</th>\n",
       "      <th>ST</th>\n",
       "      <th>PUMA</th>\n",
       "      <th>ADJHSG</th>\n",
       "      <th>WGTP</th>\n",
       "      <th>NP</th>\n",
       "      <th>TEN</th>\n",
       "      <th>BLD</th>\n",
       "      <th>BDSP</th>\n",
       "      <th>RNTP</th>\n",
       "      <th>VACS</th>\n",
       "      <th>HINCP</th>\n",
       "      <th>SMOCP</th>\n",
       "      <th>GRNTP</th>\n",
       "      <th>GRPIP</th>\n",
       "      <th>OCPIP</th>\n",
       "      <th>KIT</th>\n",
       "      <th>PLM</th>\n",
       "    </tr>\n",
       "  </thead>\n",
       "  <tbody>\n",
       "    <tr>\n",
       "      <th>0</th>\n",
       "      <td>26</td>\n",
       "      <td>42</td>\n",
       "      <td>2600</td>\n",
       "      <td>1000000</td>\n",
       "      <td>37</td>\n",
       "      <td>1</td>\n",
       "      <td>3.0</td>\n",
       "      <td>2.0</td>\n",
       "      <td>2.0</td>\n",
       "      <td>500.0</td>\n",
       "      <td>NaN</td>\n",
       "      <td>45000.0</td>\n",
       "      <td>NaN</td>\n",
       "      <td>603.0</td>\n",
       "      <td>16.0</td>\n",
       "      <td>NaN</td>\n",
       "      <td>1.0</td>\n",
       "      <td>1.0</td>\n",
       "    </tr>\n",
       "    <tr>\n",
       "      <th>1</th>\n",
       "      <td>31</td>\n",
       "      <td>42</td>\n",
       "      <td>3403</td>\n",
       "      <td>1000000</td>\n",
       "      <td>206</td>\n",
       "      <td>3</td>\n",
       "      <td>3.0</td>\n",
       "      <td>2.0</td>\n",
       "      <td>2.0</td>\n",
       "      <td>800.0</td>\n",
       "      <td>NaN</td>\n",
       "      <td>43300.0</td>\n",
       "      <td>NaN</td>\n",
       "      <td>1147.0</td>\n",
       "      <td>32.0</td>\n",
       "      <td>NaN</td>\n",
       "      <td>1.0</td>\n",
       "      <td>1.0</td>\n",
       "    </tr>\n",
       "    <tr>\n",
       "      <th>2</th>\n",
       "      <td>35</td>\n",
       "      <td>42</td>\n",
       "      <td>3603</td>\n",
       "      <td>1000000</td>\n",
       "      <td>30</td>\n",
       "      <td>2</td>\n",
       "      <td>1.0</td>\n",
       "      <td>2.0</td>\n",
       "      <td>4.0</td>\n",
       "      <td>NaN</td>\n",
       "      <td>NaN</td>\n",
       "      <td>125000.0</td>\n",
       "      <td>2090.0</td>\n",
       "      <td>NaN</td>\n",
       "      <td>NaN</td>\n",
       "      <td>20.0</td>\n",
       "      <td>1.0</td>\n",
       "      <td>1.0</td>\n",
       "    </tr>\n",
       "    <tr>\n",
       "      <th>3</th>\n",
       "      <td>44</td>\n",
       "      <td>42</td>\n",
       "      <td>200</td>\n",
       "      <td>1000000</td>\n",
       "      <td>47</td>\n",
       "      <td>2</td>\n",
       "      <td>2.0</td>\n",
       "      <td>2.0</td>\n",
       "      <td>3.0</td>\n",
       "      <td>NaN</td>\n",
       "      <td>NaN</td>\n",
       "      <td>96200.0</td>\n",
       "      <td>547.0</td>\n",
       "      <td>NaN</td>\n",
       "      <td>NaN</td>\n",
       "      <td>7.0</td>\n",
       "      <td>1.0</td>\n",
       "      <td>1.0</td>\n",
       "    </tr>\n",
       "    <tr>\n",
       "      <th>4</th>\n",
       "      <td>52</td>\n",
       "      <td>42</td>\n",
       "      <td>1200</td>\n",
       "      <td>1000000</td>\n",
       "      <td>111</td>\n",
       "      <td>3</td>\n",
       "      <td>3.0</td>\n",
       "      <td>6.0</td>\n",
       "      <td>2.0</td>\n",
       "      <td>1100.0</td>\n",
       "      <td>NaN</td>\n",
       "      <td>20200.0</td>\n",
       "      <td>NaN</td>\n",
       "      <td>1190.0</td>\n",
       "      <td>71.0</td>\n",
       "      <td>NaN</td>\n",
       "      <td>1.0</td>\n",
       "      <td>1.0</td>\n",
       "    </tr>\n",
       "  </tbody>\n",
       "</table>\n",
       "</div>"
      ],
      "text/plain": [
       "   SERIALNO  ST  PUMA   ADJHSG  WGTP  NP  TEN  BLD  BDSP    RNTP  VACS  \\\n",
       "0        26  42  2600  1000000    37   1  3.0  2.0   2.0   500.0   NaN   \n",
       "1        31  42  3403  1000000   206   3  3.0  2.0   2.0   800.0   NaN   \n",
       "2        35  42  3603  1000000    30   2  1.0  2.0   4.0     NaN   NaN   \n",
       "3        44  42   200  1000000    47   2  2.0  2.0   3.0     NaN   NaN   \n",
       "4        52  42  1200  1000000   111   3  3.0  6.0   2.0  1100.0   NaN   \n",
       "\n",
       "      HINCP   SMOCP   GRNTP  GRPIP  OCPIP  KIT  PLM  \n",
       "0   45000.0     NaN   603.0   16.0    NaN  1.0  1.0  \n",
       "1   43300.0     NaN  1147.0   32.0    NaN  1.0  1.0  \n",
       "2  125000.0  2090.0     NaN    NaN   20.0  1.0  1.0  \n",
       "3   96200.0   547.0     NaN    NaN    7.0  1.0  1.0  \n",
       "4   20200.0     NaN  1190.0   71.0    NaN  1.0  1.0  "
      ]
     },
     "execution_count": 6,
     "metadata": {},
     "output_type": "execute_result"
    }
   ],
   "source": [
    "#too many columns! let's do something about it... \n",
    "#get relevant columns: SERIALNO, ST, PUMA, ADJHSG, ADJINC, WGTP, NP, TEN (tenure), BLD, BDSP (# bedrooms), RNTP (rent), VACS (vacancy status),\n",
    "#...HINCP (hh income), SMOCP (selected monthly owner costs), GRNTP (gross rent), GRPIP (gross rent as % of hh inc), \n",
    "#... KIT (complete kitchen), OCPIP (selected monthly owner costs as % hh inc), PLM (complete plumbing) \n",
    "df_15_s= df_15[['SERIALNO','ST', 'PUMA', 'ADJHSG', 'WGTP', 'NP', 'TEN', 'BLD', 'BDSP', 'RNTP', 'VACS','HINCP','SMOCP','GRNTP', 'GRPIP','OCPIP', 'KIT', 'PLM']]\n",
    "\n",
    "df_15_s.head()"
   ]
  },
  {
   "cell_type": "code",
   "execution_count": 7,
   "metadata": {
    "collapsed": false
   },
   "outputs": [
    {
     "data": {
      "text/plain": [
       "5031"
      ]
     },
     "execution_count": 7,
     "metadata": {},
     "output_type": "execute_result"
    }
   ],
   "source": [
    "##NOTE there are 5031 records where NP == 0. Reasons why no assoc'd person records? VACS column may shed light\n",
    "len(df_15_s[df_15_s['NP'] == 0].index)"
   ]
  },
  {
   "cell_type": "code",
   "execution_count": 8,
   "metadata": {
    "collapsed": false
   },
   "outputs": [
    {
     "data": {
      "text/plain": [
       "array([[<matplotlib.axes._subplots.AxesSubplot object at 0x112e89668>]], dtype=object)"
      ]
     },
     "execution_count": 8,
     "metadata": {},
     "output_type": "execute_result"
    },
    {
     "data": {
      "image/png": "[encoded data removed]",
      "text/plain": [
       "<matplotlib.figure.Figure at 0x112e4bc50>"
      ]
     },
     "metadata": {},
     "output_type": "display_data"
    }
   ],
   "source": [
    "#histogram of distribution of NP (number of person records following this hh)\n",
    "hh_size = df_15_s.hist(column='NP', bins=16)\n",
    "hh_size"
   ]
  },
  {
   "cell_type": "code",
   "execution_count": 9,
   "metadata": {
    "collapsed": false
   },
   "outputs": [
    {
     "data": {
      "text/plain": [
       "array([[<matplotlib.axes._subplots.AxesSubplot object at 0x130378eb8>]], dtype=object)"
      ]
     },
     "execution_count": 9,
     "metadata": {},
     "output_type": "execute_result"
    },
    {
     "data": {
      "image/png": "[encoded data removed]",
      "text/plain": [
       "<matplotlib.figure.Figure at 0x1304f7940>"
      ]
     },
     "metadata": {},
     "output_type": "display_data"
    }
   ],
   "source": [
    "#histogram of distribution of SMOCP \n",
    "SMOCP_d = df_15_s.hist(column='SMOCP')\n",
    "SMOCP_d"
   ]
  },
  {
   "cell_type": "code",
   "execution_count": 10,
   "metadata": {
    "collapsed": false
   },
   "outputs": [
    {
     "data": {
      "text/html": [
       "<div>\n",
       "<table border=\"1\" class=\"dataframe\">\n",
       "  <thead>\n",
       "    <tr style=\"text-align: right;\">\n",
       "      <th></th>\n",
       "      <th>hhd_size</th>\n",
       "      <th>pov_15</th>\n",
       "      <th>pov_14</th>\n",
       "      <th>pov_13</th>\n",
       "      <th>pov_12</th>\n",
       "      <th>pov_11</th>\n",
       "      <th>pov_10</th>\n",
       "      <th>pov_09</th>\n",
       "      <th>pov_08</th>\n",
       "      <th>pov_07</th>\n",
       "      <th>pov_06</th>\n",
       "      <th>pov_05</th>\n",
       "      <th>pov_04</th>\n",
       "      <th>pov_03</th>\n",
       "      <th>pov_02</th>\n",
       "      <th>pov_01</th>\n",
       "      <th>pov_00</th>\n",
       "    </tr>\n",
       "  </thead>\n",
       "  <tbody>\n",
       "    <tr>\n",
       "      <th>0</th>\n",
       "      <td>1</td>\n",
       "      <td>11770.0</td>\n",
       "      <td>11670.0</td>\n",
       "      <td>11490.0</td>\n",
       "      <td>11170.0</td>\n",
       "      <td>10890.00</td>\n",
       "      <td>10830.0</td>\n",
       "      <td>10830.0</td>\n",
       "      <td>10400.0</td>\n",
       "      <td>10210.0</td>\n",
       "      <td>9800.0</td>\n",
       "      <td>9570.0</td>\n",
       "      <td>9310.0</td>\n",
       "      <td>8980.0</td>\n",
       "      <td>8860.0</td>\n",
       "      <td>8590.0</td>\n",
       "      <td>8350.0</td>\n",
       "    </tr>\n",
       "    <tr>\n",
       "      <th>1</th>\n",
       "      <td>2</td>\n",
       "      <td>15930.0</td>\n",
       "      <td>15730.0</td>\n",
       "      <td>15510.0</td>\n",
       "      <td>15130.0</td>\n",
       "      <td>14,710</td>\n",
       "      <td>14570.0</td>\n",
       "      <td>14570.0</td>\n",
       "      <td>14000.0</td>\n",
       "      <td>13690.0</td>\n",
       "      <td>13200.0</td>\n",
       "      <td>12830.0</td>\n",
       "      <td>12490.0</td>\n",
       "      <td>12120.0</td>\n",
       "      <td>11940.0</td>\n",
       "      <td>11610.0</td>\n",
       "      <td>11250.0</td>\n",
       "    </tr>\n",
       "    <tr>\n",
       "      <th>2</th>\n",
       "      <td>3</td>\n",
       "      <td>20090.0</td>\n",
       "      <td>19790.0</td>\n",
       "      <td>19530.0</td>\n",
       "      <td>19090.0</td>\n",
       "      <td>18,530</td>\n",
       "      <td>18310.0</td>\n",
       "      <td>18310.0</td>\n",
       "      <td>17600.0</td>\n",
       "      <td>17170.0</td>\n",
       "      <td>16600.0</td>\n",
       "      <td>16090.0</td>\n",
       "      <td>15670.0</td>\n",
       "      <td>15260.0</td>\n",
       "      <td>15020.0</td>\n",
       "      <td>14630.0</td>\n",
       "      <td>14150.0</td>\n",
       "    </tr>\n",
       "    <tr>\n",
       "      <th>3</th>\n",
       "      <td>4</td>\n",
       "      <td>24250.0</td>\n",
       "      <td>23850.0</td>\n",
       "      <td>23550.0</td>\n",
       "      <td>23050.0</td>\n",
       "      <td>22,350</td>\n",
       "      <td>22050.0</td>\n",
       "      <td>22050.0</td>\n",
       "      <td>21200.0</td>\n",
       "      <td>20650.0</td>\n",
       "      <td>20000.0</td>\n",
       "      <td>19350.0</td>\n",
       "      <td>18850.0</td>\n",
       "      <td>18400.0</td>\n",
       "      <td>18100.0</td>\n",
       "      <td>17650.0</td>\n",
       "      <td>17050.0</td>\n",
       "    </tr>\n",
       "    <tr>\n",
       "      <th>4</th>\n",
       "      <td>5</td>\n",
       "      <td>28410.0</td>\n",
       "      <td>27910.0</td>\n",
       "      <td>27570.0</td>\n",
       "      <td>27010.0</td>\n",
       "      <td>26,170</td>\n",
       "      <td>25790.0</td>\n",
       "      <td>25790.0</td>\n",
       "      <td>24800.0</td>\n",
       "      <td>24130.0</td>\n",
       "      <td>23400.0</td>\n",
       "      <td>22610.0</td>\n",
       "      <td>22030.0</td>\n",
       "      <td>21540.0</td>\n",
       "      <td>21180.0</td>\n",
       "      <td>20670.0</td>\n",
       "      <td>19950.0</td>\n",
       "    </tr>\n",
       "  </tbody>\n",
       "</table>\n",
       "</div>"
      ],
      "text/plain": [
       "   hhd_size   pov_15   pov_14   pov_13   pov_12    pov_11   pov_10   pov_09  \\\n",
       "0         1  11770.0  11670.0  11490.0  11170.0  10890.00  10830.0  10830.0   \n",
       "1         2  15930.0  15730.0  15510.0  15130.0    14,710  14570.0  14570.0   \n",
       "2         3  20090.0  19790.0  19530.0  19090.0    18,530  18310.0  18310.0   \n",
       "3         4  24250.0  23850.0  23550.0  23050.0    22,350  22050.0  22050.0   \n",
       "4         5  28410.0  27910.0  27570.0  27010.0    26,170  25790.0  25790.0   \n",
       "\n",
       "    pov_08   pov_07   pov_06   pov_05   pov_04   pov_03   pov_02   pov_01  \\\n",
       "0  10400.0  10210.0   9800.0   9570.0   9310.0   8980.0   8860.0   8590.0   \n",
       "1  14000.0  13690.0  13200.0  12830.0  12490.0  12120.0  11940.0  11610.0   \n",
       "2  17600.0  17170.0  16600.0  16090.0  15670.0  15260.0  15020.0  14630.0   \n",
       "3  21200.0  20650.0  20000.0  19350.0  18850.0  18400.0  18100.0  17650.0   \n",
       "4  24800.0  24130.0  23400.0  22610.0  22030.0  21540.0  21180.0  20670.0   \n",
       "\n",
       "    pov_00  \n",
       "0   8350.0  \n",
       "1  11250.0  \n",
       "2  14150.0  \n",
       "3  17050.0  \n",
       "4  19950.0  "
      ]
     },
     "execution_count": 10,
     "metadata": {},
     "output_type": "execute_result"
    }
   ],
   "source": [
    "#Load poverty guidelines data\n",
    "pov = pd.read_table(\"proj_data/pov_guidelines.csv\", sep=',', low_memory=False)\n",
    "pov.head()"
   ]
  },
  {
   "cell_type": "code",
   "execution_count": 11,
   "metadata": {
    "collapsed": false
   },
   "outputs": [
    {
     "name": "stdout",
     "output_type": "stream",
     "text": [
      "pov hhd_size: int64 \n",
      " pums_np: int64\n"
     ]
    }
   ],
   "source": [
    "#check datatypes to see if join is possible...\n",
    "print('pov hhd_size:', pov['hhd_size'].dtype, \"\\n\",'pums_np:', df_15_s['NP'].dtype) \n"
   ]
  },
  {
   "cell_type": "markdown",
   "metadata": {},
   "source": [
    "## Merge poverty data to pums"
   ]
  },
  {
   "cell_type": "code",
   "execution_count": 12,
   "metadata": {
    "collapsed": false
   },
   "outputs": [
    {
     "data": {
      "text/html": [
       "<div>\n",
       "<table border=\"1\" class=\"dataframe\">\n",
       "  <thead>\n",
       "    <tr style=\"text-align: right;\">\n",
       "      <th></th>\n",
       "      <th>SERIALNO</th>\n",
       "      <th>ST</th>\n",
       "      <th>PUMA</th>\n",
       "      <th>ADJHSG</th>\n",
       "      <th>WGTP</th>\n",
       "      <th>NP</th>\n",
       "      <th>TEN</th>\n",
       "      <th>BLD</th>\n",
       "      <th>BDSP</th>\n",
       "      <th>RNTP</th>\n",
       "      <th>VACS</th>\n",
       "      <th>HINCP</th>\n",
       "      <th>SMOCP</th>\n",
       "      <th>GRNTP</th>\n",
       "      <th>GRPIP</th>\n",
       "      <th>OCPIP</th>\n",
       "      <th>KIT</th>\n",
       "      <th>PLM</th>\n",
       "      <th>hhd_size</th>\n",
       "      <th>pov_15</th>\n",
       "    </tr>\n",
       "  </thead>\n",
       "  <tbody>\n",
       "    <tr>\n",
       "      <th>22105</th>\n",
       "      <td>31</td>\n",
       "      <td>42</td>\n",
       "      <td>3403</td>\n",
       "      <td>1000000</td>\n",
       "      <td>206</td>\n",
       "      <td>3</td>\n",
       "      <td>3.0</td>\n",
       "      <td>2.0</td>\n",
       "      <td>2.0</td>\n",
       "      <td>800.0</td>\n",
       "      <td>NaN</td>\n",
       "      <td>43300.0</td>\n",
       "      <td>NaN</td>\n",
       "      <td>1147.0</td>\n",
       "      <td>32.0</td>\n",
       "      <td>NaN</td>\n",
       "      <td>1.0</td>\n",
       "      <td>1.0</td>\n",
       "      <td>3</td>\n",
       "      <td>20090.0</td>\n",
       "    </tr>\n",
       "  </tbody>\n",
       "</table>\n",
       "</div>"
      ],
      "text/plain": [
       "       SERIALNO  ST  PUMA   ADJHSG  WGTP  NP  TEN  BLD  BDSP   RNTP  VACS  \\\n",
       "22105        31  42  3403  1000000   206   3  3.0  2.0   2.0  800.0   NaN   \n",
       "\n",
       "         HINCP  SMOCP   GRNTP  GRPIP  OCPIP  KIT  PLM  hhd_size   pov_15  \n",
       "22105  43300.0    NaN  1147.0   32.0    NaN  1.0  1.0         3  20090.0  "
      ]
     },
     "execution_count": 12,
     "metadata": {},
     "output_type": "execute_result"
    }
   ],
   "source": [
    "#pull out pov_ 15\n",
    "pov15=pov.iloc[:,[0,1]]\n",
    "\n",
    "#merge poverty data to pums\n",
    "df15_pov = df_15_s.merge(pov15, left_on='NP', right_on='hhd_size')\n",
    "\n",
    "#let's check that it worked by checking a record, SERIALNO 31\n",
    "df15_pov[df15_pov['SERIALNO']==31]"
   ]
  },
  {
   "cell_type": "markdown",
   "metadata": {},
   "source": [
    "## Filter for RENTER records we want... "
   ]
  },
  {
   "cell_type": "code",
   "execution_count": 13,
   "metadata": {
    "collapsed": false
   },
   "outputs": [
    {
     "name": "stdout",
     "output_type": "stream",
     "text": [
      "PA rental households in data w/ grpip info: 11144\n"
     ]
    }
   ],
   "source": [
    "# r is for renters...\n",
    "df15_r = df15_pov[df15_pov['GRPIP'].notnull()] \n",
    "print(\"PA rental households in data w/ grpip info:\", len(df15_r.index))\n"
   ]
  },
  {
   "cell_type": "code",
   "execution_count": 14,
   "metadata": {
    "collapsed": false
   },
   "outputs": [
    {
     "name": "stdout",
     "output_type": "stream",
     "text": [
      "PA rental households in data where tenure = rented: 11388\n"
     ]
    }
   ],
   "source": [
    "#alternatively, can look at data where tenure = rented (TEN: 1=owned w/ mortgage/loan, 2=owned free & clear, 3=rented, 4=occupied w/o rent)\n",
    "df15_r = df15_pov[df15_pov['TEN']==3] \n",
    "print(\"PA rental households in data where tenure = rented:\", len(df15_r.index))\n"
   ]
  },
  {
   "cell_type": "code",
   "execution_count": 15,
   "metadata": {
    "collapsed": false
   },
   "outputs": [
    {
     "name": "stdout",
     "output_type": "stream",
     "text": [
      "PA rental households with complete kitchen, plumbing: 11165\n"
     ]
    }
   ],
   "source": [
    "# renters with complete kitchen and plumbing\n",
    "df15_rk = df15_r[df15_r['KIT']==1]\n",
    "df15_rkp = df15_rk[df15_rk['PLM']==1]\n",
    "\n",
    "print(\"PA rental households with complete kitchen, plumbing:\", len(df15_rkp.index))"
   ]
  },
  {
   "cell_type": "code",
   "execution_count": 16,
   "metadata": {
    "collapsed": false
   },
   "outputs": [
    {
     "name": "stdout",
     "output_type": "stream",
     "text": [
      "PA rental households below fed poverty line: 2289\n"
     ]
    }
   ],
   "source": [
    "# FILTER for records where hincp is less than poverty guideline\n",
    "df15r_need = df15_rkp[(df15_rkp['HINCP']<=df15_rkp['pov_15']) & (df15_rkp['GRPIP'].notnull())]\n",
    "\n",
    "print(\"PA rental households below fed poverty line:\", len(df15r_need.index))"
   ]
  },
  {
   "cell_type": "markdown",
   "metadata": {},
   "source": [
    "## Filter for % of renters in poverty"
   ]
  },
  {
   "cell_type": "code",
   "execution_count": 18,
   "metadata": {
    "collapsed": false
   },
   "outputs": [
    {
     "name": "stderr",
     "output_type": "stream",
     "text": [
      "/Users/phoebe/anaconda/lib/python3.6/site-packages/ipykernel/__main__.py:5: SettingWithCopyWarning: \n",
      "A value is trying to be set on a copy of a slice from a DataFrame.\n",
      "Try using .loc[row_indexer,col_indexer] = value instead\n",
      "\n",
      "See the caveats in the documentation: http://pandas.pydata.org/pandas-docs/stable/indexing.html#indexing-view-versus-copy\n"
     ]
    },
    {
     "data": {
      "text/html": [
       "<div>\n",
       "<table border=\"1\" class=\"dataframe\">\n",
       "  <thead>\n",
       "    <tr style=\"text-align: right;\">\n",
       "      <th></th>\n",
       "      <th>SERIALNO</th>\n",
       "      <th>ST</th>\n",
       "      <th>PUMA</th>\n",
       "      <th>ADJHSG</th>\n",
       "      <th>WGTP</th>\n",
       "      <th>NP</th>\n",
       "      <th>TEN</th>\n",
       "      <th>BLD</th>\n",
       "      <th>BDSP</th>\n",
       "      <th>RNTP</th>\n",
       "      <th>...</th>\n",
       "      <th>HINCP</th>\n",
       "      <th>SMOCP</th>\n",
       "      <th>GRNTP</th>\n",
       "      <th>GRPIP</th>\n",
       "      <th>OCPIP</th>\n",
       "      <th>KIT</th>\n",
       "      <th>PLM</th>\n",
       "      <th>hhd_size</th>\n",
       "      <th>pov_15</th>\n",
       "      <th>WGTPpov</th>\n",
       "    </tr>\n",
       "  </thead>\n",
       "  <tbody>\n",
       "    <tr>\n",
       "      <th>0</th>\n",
       "      <td>26</td>\n",
       "      <td>42</td>\n",
       "      <td>2600</td>\n",
       "      <td>1000000</td>\n",
       "      <td>37</td>\n",
       "      <td>1</td>\n",
       "      <td>3.0</td>\n",
       "      <td>2.0</td>\n",
       "      <td>2.0</td>\n",
       "      <td>500.0</td>\n",
       "      <td>...</td>\n",
       "      <td>45000.0</td>\n",
       "      <td>NaN</td>\n",
       "      <td>603.0</td>\n",
       "      <td>16.0</td>\n",
       "      <td>NaN</td>\n",
       "      <td>1.0</td>\n",
       "      <td>1.0</td>\n",
       "      <td>1</td>\n",
       "      <td>11770.0</td>\n",
       "      <td>0</td>\n",
       "    </tr>\n",
       "    <tr>\n",
       "      <th>3</th>\n",
       "      <td>208</td>\n",
       "      <td>42</td>\n",
       "      <td>2002</td>\n",
       "      <td>1000000</td>\n",
       "      <td>80</td>\n",
       "      <td>1</td>\n",
       "      <td>3.0</td>\n",
       "      <td>9.0</td>\n",
       "      <td>1.0</td>\n",
       "      <td>290.0</td>\n",
       "      <td>...</td>\n",
       "      <td>14900.0</td>\n",
       "      <td>NaN</td>\n",
       "      <td>360.0</td>\n",
       "      <td>29.0</td>\n",
       "      <td>NaN</td>\n",
       "      <td>1.0</td>\n",
       "      <td>1.0</td>\n",
       "      <td>1</td>\n",
       "      <td>11770.0</td>\n",
       "      <td>0</td>\n",
       "    </tr>\n",
       "    <tr>\n",
       "      <th>11</th>\n",
       "      <td>846</td>\n",
       "      <td>42</td>\n",
       "      <td>1701</td>\n",
       "      <td>1000000</td>\n",
       "      <td>74</td>\n",
       "      <td>1</td>\n",
       "      <td>3.0</td>\n",
       "      <td>8.0</td>\n",
       "      <td>1.0</td>\n",
       "      <td>570.0</td>\n",
       "      <td>...</td>\n",
       "      <td>39000.0</td>\n",
       "      <td>NaN</td>\n",
       "      <td>640.0</td>\n",
       "      <td>20.0</td>\n",
       "      <td>NaN</td>\n",
       "      <td>1.0</td>\n",
       "      <td>1.0</td>\n",
       "      <td>1</td>\n",
       "      <td>11770.0</td>\n",
       "      <td>0</td>\n",
       "    </tr>\n",
       "    <tr>\n",
       "      <th>13</th>\n",
       "      <td>900</td>\n",
       "      <td>42</td>\n",
       "      <td>2401</td>\n",
       "      <td>1000000</td>\n",
       "      <td>120</td>\n",
       "      <td>1</td>\n",
       "      <td>3.0</td>\n",
       "      <td>6.0</td>\n",
       "      <td>1.0</td>\n",
       "      <td>820.0</td>\n",
       "      <td>...</td>\n",
       "      <td>9170.0</td>\n",
       "      <td>NaN</td>\n",
       "      <td>910.0</td>\n",
       "      <td>101.0</td>\n",
       "      <td>NaN</td>\n",
       "      <td>1.0</td>\n",
       "      <td>1.0</td>\n",
       "      <td>1</td>\n",
       "      <td>11770.0</td>\n",
       "      <td>120</td>\n",
       "    </tr>\n",
       "    <tr>\n",
       "      <th>23</th>\n",
       "      <td>1639</td>\n",
       "      <td>42</td>\n",
       "      <td>1100</td>\n",
       "      <td>1000000</td>\n",
       "      <td>72</td>\n",
       "      <td>1</td>\n",
       "      <td>3.0</td>\n",
       "      <td>8.0</td>\n",
       "      <td>1.0</td>\n",
       "      <td>290.0</td>\n",
       "      <td>...</td>\n",
       "      <td>15900.0</td>\n",
       "      <td>NaN</td>\n",
       "      <td>330.0</td>\n",
       "      <td>25.0</td>\n",
       "      <td>NaN</td>\n",
       "      <td>1.0</td>\n",
       "      <td>1.0</td>\n",
       "      <td>1</td>\n",
       "      <td>11770.0</td>\n",
       "      <td>0</td>\n",
       "    </tr>\n",
       "  </tbody>\n",
       "</table>\n",
       "<p>5 rows × 21 columns</p>\n",
       "</div>"
      ],
      "text/plain": [
       "    SERIALNO  ST  PUMA   ADJHSG  WGTP  NP  TEN  BLD  BDSP   RNTP   ...     \\\n",
       "0         26  42  2600  1000000    37   1  3.0  2.0   2.0  500.0   ...      \n",
       "3        208  42  2002  1000000    80   1  3.0  9.0   1.0  290.0   ...      \n",
       "11       846  42  1701  1000000    74   1  3.0  8.0   1.0  570.0   ...      \n",
       "13       900  42  2401  1000000   120   1  3.0  6.0   1.0  820.0   ...      \n",
       "23      1639  42  1100  1000000    72   1  3.0  8.0   1.0  290.0   ...      \n",
       "\n",
       "      HINCP  SMOCP  GRNTP  GRPIP  OCPIP  KIT  PLM  hhd_size   pov_15  WGTPpov  \n",
       "0   45000.0    NaN  603.0   16.0    NaN  1.0  1.0         1  11770.0        0  \n",
       "3   14900.0    NaN  360.0   29.0    NaN  1.0  1.0         1  11770.0        0  \n",
       "11  39000.0    NaN  640.0   20.0    NaN  1.0  1.0         1  11770.0        0  \n",
       "13   9170.0    NaN  910.0  101.0    NaN  1.0  1.0         1  11770.0      120  \n",
       "23  15900.0    NaN  330.0   25.0    NaN  1.0  1.0         1  11770.0        0  \n",
       "\n",
       "[5 rows x 21 columns]"
      ]
     },
     "execution_count": 18,
     "metadata": {},
     "output_type": "execute_result"
    }
   ],
   "source": [
    "## create new column that calculates # of renting households below poverty line\n",
    "\n",
    "# Create a new column called df15r_rkp.WGTPpov where the value is the WGTP if df15r_rkp.HINCP\n",
    "# is less than or equal to df15r_rkp.pov_15 and 0 if not.\n",
    "df15_rkp['WGTPpov'] = df15_rkp['WGTP'].where(df15_rkp['HINCP']<=df15_rkp['pov_15'], 0)\n",
    "df15_rkp.head()"
   ]
  },
  {
   "cell_type": "code",
   "execution_count": 19,
   "metadata": {
    "collapsed": false
   },
   "outputs": [
    {
     "data": {
      "text/html": [
       "<div>\n",
       "<table border=\"1\" class=\"dataframe\">\n",
       "  <thead>\n",
       "    <tr style=\"text-align: right;\">\n",
       "      <th></th>\n",
       "      <th>WGTP</th>\n",
       "      <th>WGTPpov</th>\n",
       "    </tr>\n",
       "    <tr>\n",
       "      <th>PUMA</th>\n",
       "      <th></th>\n",
       "      <th></th>\n",
       "    </tr>\n",
       "  </thead>\n",
       "  <tbody>\n",
       "    <tr>\n",
       "      <th>101</th>\n",
       "      <td>20118</td>\n",
       "      <td>7345</td>\n",
       "    </tr>\n",
       "    <tr>\n",
       "      <th>102</th>\n",
       "      <td>17091</td>\n",
       "      <td>2970</td>\n",
       "    </tr>\n",
       "    <tr>\n",
       "      <th>200</th>\n",
       "      <td>12197</td>\n",
       "      <td>2915</td>\n",
       "    </tr>\n",
       "    <tr>\n",
       "      <th>300</th>\n",
       "      <td>15681</td>\n",
       "      <td>3606</td>\n",
       "    </tr>\n",
       "    <tr>\n",
       "      <th>400</th>\n",
       "      <td>9454</td>\n",
       "      <td>2238</td>\n",
       "    </tr>\n",
       "  </tbody>\n",
       "</table>\n",
       "</div>"
      ],
      "text/plain": [
       "       WGTP  WGTPpov\n",
       "PUMA                \n",
       "101   20118     7345\n",
       "102   17091     2970\n",
       "200   12197     2915\n",
       "300   15681     3606\n",
       "400    9454     2238"
      ]
     },
     "execution_count": 19,
     "metadata": {},
     "output_type": "execute_result"
    }
   ],
   "source": [
    "# group by PUMA and sum the total hhds (WGTP) and the hhds in poverty (WGTPpov)\n",
    "\n",
    "#group by PUMA\n",
    "grp = df15_rkp.groupby([\"PUMA\"])\n",
    "\n",
    "#calculate totals by PUMA of hhds and hhds in poverty\n",
    "df15r_pov = grp[['WGTP','WGTPpov']].sum()\n",
    "df15r_pov.head()"
   ]
  },
  {
   "cell_type": "code",
   "execution_count": 20,
   "metadata": {
    "collapsed": false
   },
   "outputs": [
    {
     "data": {
      "text/html": [
       "<div>\n",
       "<table border=\"1\" class=\"dataframe\">\n",
       "  <thead>\n",
       "    <tr style=\"text-align: right;\">\n",
       "      <th></th>\n",
       "      <th>WGTP</th>\n",
       "      <th>WGTPpov</th>\n",
       "      <th>PCTpov</th>\n",
       "    </tr>\n",
       "    <tr>\n",
       "      <th>PUMA</th>\n",
       "      <th></th>\n",
       "      <th></th>\n",
       "      <th></th>\n",
       "    </tr>\n",
       "  </thead>\n",
       "  <tbody>\n",
       "    <tr>\n",
       "      <th>101</th>\n",
       "      <td>20118</td>\n",
       "      <td>7345</td>\n",
       "      <td>36.509593</td>\n",
       "    </tr>\n",
       "    <tr>\n",
       "      <th>102</th>\n",
       "      <td>17091</td>\n",
       "      <td>2970</td>\n",
       "      <td>17.377567</td>\n",
       "    </tr>\n",
       "    <tr>\n",
       "      <th>200</th>\n",
       "      <td>12197</td>\n",
       "      <td>2915</td>\n",
       "      <td>23.899320</td>\n",
       "    </tr>\n",
       "    <tr>\n",
       "      <th>300</th>\n",
       "      <td>15681</td>\n",
       "      <td>3606</td>\n",
       "      <td>22.995982</td>\n",
       "    </tr>\n",
       "    <tr>\n",
       "      <th>400</th>\n",
       "      <td>9454</td>\n",
       "      <td>2238</td>\n",
       "      <td>23.672520</td>\n",
       "    </tr>\n",
       "  </tbody>\n",
       "</table>\n",
       "</div>"
      ],
      "text/plain": [
       "       WGTP  WGTPpov     PCTpov\n",
       "PUMA                           \n",
       "101   20118     7345  36.509593\n",
       "102   17091     2970  17.377567\n",
       "200   12197     2915  23.899320\n",
       "300   15681     3606  22.995982\n",
       "400    9454     2238  23.672520"
      ]
     },
     "execution_count": 20,
     "metadata": {},
     "output_type": "execute_result"
    }
   ],
   "source": [
    "# create new column with WGTP30/WGTP to get % renter hhds in poverty\n",
    "df15r_pov['PCTpov'] = (df15r_pov['WGTPpov'] / df15r_pov['WGTP'])*100\n",
    "df15r_pov.head()"
   ]
  },
  {
   "cell_type": "code",
   "execution_count": 21,
   "metadata": {
    "collapsed": true
   },
   "outputs": [],
   "source": [
    "# export percent of renting households below poverty line by PUMA\n",
    "df15r_pov.to_csv('15r_poverty.csv')"
   ]
  },
  {
   "cell_type": "markdown",
   "metadata": {},
   "source": [
    "## Do some magic (math) to aggregate data at puma"
   ]
  },
  {
   "cell_type": "code",
   "execution_count": 18,
   "metadata": {
    "collapsed": false
   },
   "outputs": [
    {
     "name": "stdout",
     "output_type": "stream",
     "text": [
      "PUMA\n",
      "101    56.893162\n",
      "102    58.530604\n",
      "200    61.972290\n",
      "300    58.359240\n",
      "400    63.191689\n",
      "dtype: float64 \n",
      " PUMA\n",
      "101    55.0\n",
      "102    56.0\n",
      "200    62.0\n",
      "300    54.0\n",
      "400    56.0\n",
      "dtype: float64 \n",
      " PUMA\n",
      "101     70.0\n",
      "102     67.0\n",
      "200    101.0\n",
      "300     77.0\n",
      "400     91.0\n",
      "dtype: float64\n"
     ]
    }
   ],
   "source": [
    "# add weights to calculator\n",
    "calc = wc.Calculator(\"WGTP\")\n",
    "\n",
    "#group by PUMA\n",
    "grp = df15r_need.groupby([\"PUMA\"])\n",
    "\n",
    "#calculate weighted average of housing cost burden for ea puma\n",
    "df15r_need_avg = calc.mean(grp, 'GRPIP')\n",
    "\n",
    "#calculate weighted median of housing cost burden for ea puma\n",
    "df15r_need_med = calc.median(grp, 'GRPIP')\n",
    "\n",
    "#calculate weighted bottom 25th (neediest 25th percentile) quartile\n",
    "df15r_need_25 = calc.quantile(grp, 'GRPIP', .75)\n",
    "\n",
    "#COMPARE\n",
    "print(df15r_need_avg.head(), '\\n', df15r_need_med.head(),'\\n',df15r_need_25.head())"
   ]
  },
  {
   "cell_type": "code",
   "execution_count": 19,
   "metadata": {
    "collapsed": true
   },
   "outputs": [],
   "source": [
    "# export weighted median of rental housing cost burden for ea puma\n",
    "df15r_need_med.to_csv('15r_need_med.csv')"
   ]
  },
  {
   "cell_type": "markdown",
   "metadata": {},
   "source": [
    "## Filter for % with burden"
   ]
  },
  {
   "cell_type": "code",
   "execution_count": 20,
   "metadata": {
    "collapsed": false
   },
   "outputs": [
    {
     "name": "stdout",
     "output_type": "stream",
     "text": [
      "PA rental households below fed poverty line with burden over 30%: 2025\n"
     ]
    }
   ],
   "source": [
    "# filter where GRPIP is >= 30.0 to see total number of burdened hhds below poverty line\n",
    "df15r_burden = df15r_need[df15r_need['GRPIP']>=30.0]\n",
    "\n",
    "print(\"PA rental households below fed poverty line with burden over 30%:\", len(df15r_burden.index))"
   ]
  },
  {
   "cell_type": "code",
   "execution_count": 21,
   "metadata": {
    "collapsed": false
   },
   "outputs": [
    {
     "name": "stderr",
     "output_type": "stream",
     "text": [
      "/Users/phoebe/anaconda/lib/python3.6/site-packages/ipykernel/__main__.py:5: SettingWithCopyWarning: \n",
      "A value is trying to be set on a copy of a slice from a DataFrame.\n",
      "Try using .loc[row_indexer,col_indexer] = value instead\n",
      "\n",
      "See the caveats in the documentation: http://pandas.pydata.org/pandas-docs/stable/indexing.html#indexing-view-versus-copy\n"
     ]
    },
    {
     "data": {
      "text/html": [
       "<div>\n",
       "<table border=\"1\" class=\"dataframe\">\n",
       "  <thead>\n",
       "    <tr style=\"text-align: right;\">\n",
       "      <th></th>\n",
       "      <th>SERIALNO</th>\n",
       "      <th>ST</th>\n",
       "      <th>PUMA</th>\n",
       "      <th>ADJHSG</th>\n",
       "      <th>WGTP</th>\n",
       "      <th>NP</th>\n",
       "      <th>TEN</th>\n",
       "      <th>BLD</th>\n",
       "      <th>BDSP</th>\n",
       "      <th>RNTP</th>\n",
       "      <th>...</th>\n",
       "      <th>HINCP</th>\n",
       "      <th>SMOCP</th>\n",
       "      <th>GRNTP</th>\n",
       "      <th>GRPIP</th>\n",
       "      <th>OCPIP</th>\n",
       "      <th>KIT</th>\n",
       "      <th>PLM</th>\n",
       "      <th>hhd_size</th>\n",
       "      <th>pov_15</th>\n",
       "      <th>WGTP30</th>\n",
       "    </tr>\n",
       "  </thead>\n",
       "  <tbody>\n",
       "    <tr>\n",
       "      <th>13</th>\n",
       "      <td>900</td>\n",
       "      <td>42</td>\n",
       "      <td>2401</td>\n",
       "      <td>1000000</td>\n",
       "      <td>120</td>\n",
       "      <td>1</td>\n",
       "      <td>3.0</td>\n",
       "      <td>6.0</td>\n",
       "      <td>1.0</td>\n",
       "      <td>820.0</td>\n",
       "      <td>...</td>\n",
       "      <td>9170.0</td>\n",
       "      <td>NaN</td>\n",
       "      <td>910.0</td>\n",
       "      <td>101.0</td>\n",
       "      <td>NaN</td>\n",
       "      <td>1.0</td>\n",
       "      <td>1.0</td>\n",
       "      <td>1</td>\n",
       "      <td>11770.0</td>\n",
       "      <td>120</td>\n",
       "    </tr>\n",
       "    <tr>\n",
       "      <th>28</th>\n",
       "      <td>1880</td>\n",
       "      <td>42</td>\n",
       "      <td>1501</td>\n",
       "      <td>1000000</td>\n",
       "      <td>85</td>\n",
       "      <td>1</td>\n",
       "      <td>3.0</td>\n",
       "      <td>7.0</td>\n",
       "      <td>1.0</td>\n",
       "      <td>240.0</td>\n",
       "      <td>...</td>\n",
       "      <td>10300.0</td>\n",
       "      <td>NaN</td>\n",
       "      <td>280.0</td>\n",
       "      <td>33.0</td>\n",
       "      <td>NaN</td>\n",
       "      <td>1.0</td>\n",
       "      <td>1.0</td>\n",
       "      <td>1</td>\n",
       "      <td>11770.0</td>\n",
       "      <td>85</td>\n",
       "    </tr>\n",
       "    <tr>\n",
       "      <th>30</th>\n",
       "      <td>1944</td>\n",
       "      <td>42</td>\n",
       "      <td>3211</td>\n",
       "      <td>1000000</td>\n",
       "      <td>142</td>\n",
       "      <td>1</td>\n",
       "      <td>3.0</td>\n",
       "      <td>2.0</td>\n",
       "      <td>1.0</td>\n",
       "      <td>120.0</td>\n",
       "      <td>...</td>\n",
       "      <td>3700.0</td>\n",
       "      <td>NaN</td>\n",
       "      <td>120.0</td>\n",
       "      <td>39.0</td>\n",
       "      <td>NaN</td>\n",
       "      <td>1.0</td>\n",
       "      <td>1.0</td>\n",
       "      <td>1</td>\n",
       "      <td>11770.0</td>\n",
       "      <td>142</td>\n",
       "    </tr>\n",
       "    <tr>\n",
       "      <th>38</th>\n",
       "      <td>2659</td>\n",
       "      <td>42</td>\n",
       "      <td>3202</td>\n",
       "      <td>1000000</td>\n",
       "      <td>116</td>\n",
       "      <td>1</td>\n",
       "      <td>3.0</td>\n",
       "      <td>9.0</td>\n",
       "      <td>1.0</td>\n",
       "      <td>100.0</td>\n",
       "      <td>...</td>\n",
       "      <td>9060.0</td>\n",
       "      <td>NaN</td>\n",
       "      <td>200.0</td>\n",
       "      <td>26.0</td>\n",
       "      <td>NaN</td>\n",
       "      <td>1.0</td>\n",
       "      <td>1.0</td>\n",
       "      <td>1</td>\n",
       "      <td>11770.0</td>\n",
       "      <td>0</td>\n",
       "    </tr>\n",
       "    <tr>\n",
       "      <th>65</th>\n",
       "      <td>4285</td>\n",
       "      <td>42</td>\n",
       "      <td>3210</td>\n",
       "      <td>1000000</td>\n",
       "      <td>96</td>\n",
       "      <td>1</td>\n",
       "      <td>3.0</td>\n",
       "      <td>6.0</td>\n",
       "      <td>1.0</td>\n",
       "      <td>400.0</td>\n",
       "      <td>...</td>\n",
       "      <td>7700.0</td>\n",
       "      <td>NaN</td>\n",
       "      <td>550.0</td>\n",
       "      <td>86.0</td>\n",
       "      <td>NaN</td>\n",
       "      <td>1.0</td>\n",
       "      <td>1.0</td>\n",
       "      <td>1</td>\n",
       "      <td>11770.0</td>\n",
       "      <td>96</td>\n",
       "    </tr>\n",
       "  </tbody>\n",
       "</table>\n",
       "<p>5 rows × 21 columns</p>\n",
       "</div>"
      ],
      "text/plain": [
       "    SERIALNO  ST  PUMA   ADJHSG  WGTP  NP  TEN  BLD  BDSP   RNTP   ...    \\\n",
       "13       900  42  2401  1000000   120   1  3.0  6.0   1.0  820.0   ...     \n",
       "28      1880  42  1501  1000000    85   1  3.0  7.0   1.0  240.0   ...     \n",
       "30      1944  42  3211  1000000   142   1  3.0  2.0   1.0  120.0   ...     \n",
       "38      2659  42  3202  1000000   116   1  3.0  9.0   1.0  100.0   ...     \n",
       "65      4285  42  3210  1000000    96   1  3.0  6.0   1.0  400.0   ...     \n",
       "\n",
       "      HINCP  SMOCP  GRNTP  GRPIP  OCPIP  KIT  PLM  hhd_size   pov_15  WGTP30  \n",
       "13   9170.0    NaN  910.0  101.0    NaN  1.0  1.0         1  11770.0     120  \n",
       "28  10300.0    NaN  280.0   33.0    NaN  1.0  1.0         1  11770.0      85  \n",
       "30   3700.0    NaN  120.0   39.0    NaN  1.0  1.0         1  11770.0     142  \n",
       "38   9060.0    NaN  200.0   26.0    NaN  1.0  1.0         1  11770.0       0  \n",
       "65   7700.0    NaN  550.0   86.0    NaN  1.0  1.0         1  11770.0      96  \n",
       "\n",
       "[5 rows x 21 columns]"
      ]
     },
     "execution_count": 21,
     "metadata": {},
     "output_type": "execute_result"
    }
   ],
   "source": [
    "## create new column that calculates % of households below poverty with burden\n",
    "\n",
    "# Create a new column called df15r_need.WGTP30 where the value is the WGTP if df15r_need.GRPIP\n",
    "# is greater than or equal to 30 and 0 if not.\n",
    "df15r_need['WGTP30'] = df15r_need['WGTP'].where(df15r_need['GRPIP']>=30.0, 0)\n",
    "df15r_need.head()"
   ]
  },
  {
   "cell_type": "code",
   "execution_count": 22,
   "metadata": {
    "collapsed": false
   },
   "outputs": [
    {
     "data": {
      "text/html": [
       "<div>\n",
       "<table border=\"1\" class=\"dataframe\">\n",
       "  <thead>\n",
       "    <tr style=\"text-align: right;\">\n",
       "      <th></th>\n",
       "      <th>WGTP</th>\n",
       "      <th>WGTP30</th>\n",
       "    </tr>\n",
       "    <tr>\n",
       "      <th>PUMA</th>\n",
       "      <th></th>\n",
       "      <th></th>\n",
       "    </tr>\n",
       "  </thead>\n",
       "  <tbody>\n",
       "    <tr>\n",
       "      <th>101</th>\n",
       "      <td>6917</td>\n",
       "      <td>6031</td>\n",
       "    </tr>\n",
       "    <tr>\n",
       "      <th>102</th>\n",
       "      <td>2565</td>\n",
       "      <td>2133</td>\n",
       "    </tr>\n",
       "    <tr>\n",
       "      <th>200</th>\n",
       "      <td>2851</td>\n",
       "      <td>2213</td>\n",
       "    </tr>\n",
       "    <tr>\n",
       "      <th>300</th>\n",
       "      <td>3474</td>\n",
       "      <td>2613</td>\n",
       "    </tr>\n",
       "    <tr>\n",
       "      <th>400</th>\n",
       "      <td>2238</td>\n",
       "      <td>1902</td>\n",
       "    </tr>\n",
       "  </tbody>\n",
       "</table>\n",
       "</div>"
      ],
      "text/plain": [
       "      WGTP  WGTP30\n",
       "PUMA              \n",
       "101   6917    6031\n",
       "102   2565    2133\n",
       "200   2851    2213\n",
       "300   3474    2613\n",
       "400   2238    1902"
      ]
     },
     "execution_count": 22,
     "metadata": {},
     "output_type": "execute_result"
    }
   ],
   "source": [
    "# group by PUMA and sum the total hhds (WGTP) and the hhds with burden over 30 (WGTP30)\n",
    "\n",
    "#group by PUMA\n",
    "grp = df15r_need.groupby([\"PUMA\"])\n",
    "\n",
    "#calculate totals by PUMA of hhds and hhds with burden over 30%\n",
    "df15r_totals = grp[['WGTP','WGTP30']].sum()\n",
    "df15r_totals.head()"
   ]
  },
  {
   "cell_type": "code",
   "execution_count": 40,
   "metadata": {
    "collapsed": false
   },
   "outputs": [
    {
     "data": {
      "text/html": [
       "<div>\n",
       "<table border=\"1\" class=\"dataframe\">\n",
       "  <thead>\n",
       "    <tr style=\"text-align: right;\">\n",
       "      <th></th>\n",
       "      <th>WGTP</th>\n",
       "      <th>WGTP30</th>\n",
       "      <th>PCTburden30</th>\n",
       "    </tr>\n",
       "    <tr>\n",
       "      <th>PUMA</th>\n",
       "      <th></th>\n",
       "      <th></th>\n",
       "      <th></th>\n",
       "    </tr>\n",
       "  </thead>\n",
       "  <tbody>\n",
       "    <tr>\n",
       "      <th>101</th>\n",
       "      <td>6917</td>\n",
       "      <td>6031</td>\n",
       "      <td>87.190979</td>\n",
       "    </tr>\n",
       "    <tr>\n",
       "      <th>102</th>\n",
       "      <td>2565</td>\n",
       "      <td>2133</td>\n",
       "      <td>83.157895</td>\n",
       "    </tr>\n",
       "    <tr>\n",
       "      <th>200</th>\n",
       "      <td>2851</td>\n",
       "      <td>2213</td>\n",
       "      <td>77.621887</td>\n",
       "    </tr>\n",
       "    <tr>\n",
       "      <th>300</th>\n",
       "      <td>3474</td>\n",
       "      <td>2613</td>\n",
       "      <td>75.215889</td>\n",
       "    </tr>\n",
       "    <tr>\n",
       "      <th>400</th>\n",
       "      <td>2238</td>\n",
       "      <td>1902</td>\n",
       "      <td>84.986595</td>\n",
       "    </tr>\n",
       "  </tbody>\n",
       "</table>\n",
       "</div>"
      ],
      "text/plain": [
       "      WGTP  WGTP30  PCTburden30\n",
       "PUMA                           \n",
       "101   6917    6031    87.190979\n",
       "102   2565    2133    83.157895\n",
       "200   2851    2213    77.621887\n",
       "300   3474    2613    75.215889\n",
       "400   2238    1902    84.986595"
      ]
     },
     "execution_count": 40,
     "metadata": {},
     "output_type": "execute_result"
    }
   ],
   "source": [
    "# create new column with WGTP30/WGTP to get % hhds with burden over 30\n",
    "df15r_totals['PCTburden30'] = (df15r_totals['WGTP30'] / df15r_totals['WGTP'])*100\n",
    "df15r_totals.head()"
   ]
  },
  {
   "cell_type": "code",
   "execution_count": 41,
   "metadata": {
    "collapsed": true
   },
   "outputs": [],
   "source": [
    "# export percent of renting households below poverty line who are burdened above 30% by PUMA\n",
    "df15r_totals.to_csv('15r_totalsburden30.csv')"
   ]
  },
  {
   "cell_type": "markdown",
   "metadata": {},
   "source": [
    "## Filter for HOMEOWNER records we want... "
   ]
  },
  {
   "cell_type": "code",
   "execution_count": 22,
   "metadata": {
    "collapsed": false
   },
   "outputs": [
    {
     "name": "stdout",
     "output_type": "stream",
     "text": [
      "PA homeowning households in data w/ ocpip info: 38228\n"
     ]
    }
   ],
   "source": [
    "# h is for homeowners...\n",
    "df15_h = df15_pov[df15_pov['OCPIP'].notnull()] \n",
    "print(\"PA homeowning households in data w/ ocpip info:\", len(df15_h.index))"
   ]
  },
  {
   "cell_type": "code",
   "execution_count": 23,
   "metadata": {
    "collapsed": false
   },
   "outputs": [
    {
     "name": "stdout",
     "output_type": "stream",
     "text": [
      "PA homeowning households in data where tenure = owned w/ mortgage/loan or owned free & clear: 38471\n"
     ]
    }
   ],
   "source": [
    "#alternatively, can look at data where tenure = owned (TEN: 1=owned w/ mortgage/loan, 2=owned free & clear, 3=rented, 4=occupied w/o rent)\n",
    "df15_h = df15_pov[(df15_pov['TEN']==1) | (df15_pov['TEN']==2)] \n",
    "print(\"PA homeowning households in data where tenure = owned w/ mortgage/loan or owned free & clear:\", len(df15_h.index))"
   ]
  },
  {
   "cell_type": "code",
   "execution_count": 24,
   "metadata": {
    "collapsed": false
   },
   "outputs": [
    {
     "name": "stdout",
     "output_type": "stream",
     "text": [
      "PA homeowning households with complete kitchen, plumbing: 38280\n"
     ]
    }
   ],
   "source": [
    "# homeowners with complete kitchen and plumbing\n",
    "df15_hk = df15_h[df15_h['KIT']==1]\n",
    "df15_hkp = df15_hk[df15_hk['PLM']==1]\n",
    "\n",
    "print(\"PA homeowning households with complete kitchen, plumbing:\", len(df15_hkp.index))"
   ]
  },
  {
   "cell_type": "code",
   "execution_count": 25,
   "metadata": {
    "collapsed": false
   },
   "outputs": [
    {
     "name": "stdout",
     "output_type": "stream",
     "text": [
      "PA homeowning households below fed poverty line: 1887\n"
     ]
    }
   ],
   "source": [
    "# FILTER for records where hincp is less than poverty guideline\n",
    "df15h_need = df15_hkp[(df15_hkp['HINCP']<=df15_hkp['pov_15']) & (df15_hkp['OCPIP'].notnull())]\n",
    "\n",
    "print(\"PA homeowning households below fed poverty line:\", len(df15h_need.index))"
   ]
  },
  {
   "cell_type": "markdown",
   "metadata": {},
   "source": [
    "## Filter for % of homeowners in poverty"
   ]
  },
  {
   "cell_type": "code",
   "execution_count": 26,
   "metadata": {
    "collapsed": false
   },
   "outputs": [
    {
     "name": "stderr",
     "output_type": "stream",
     "text": [
      "/Users/phoebe/anaconda/lib/python3.6/site-packages/ipykernel/__main__.py:5: SettingWithCopyWarning: \n",
      "A value is trying to be set on a copy of a slice from a DataFrame.\n",
      "Try using .loc[row_indexer,col_indexer] = value instead\n",
      "\n",
      "See the caveats in the documentation: http://pandas.pydata.org/pandas-docs/stable/indexing.html#indexing-view-versus-copy\n"
     ]
    },
    {
     "data": {
      "text/html": [
       "<div>\n",
       "<table border=\"1\" class=\"dataframe\">\n",
       "  <thead>\n",
       "    <tr style=\"text-align: right;\">\n",
       "      <th></th>\n",
       "      <th>SERIALNO</th>\n",
       "      <th>ST</th>\n",
       "      <th>PUMA</th>\n",
       "      <th>ADJHSG</th>\n",
       "      <th>WGTP</th>\n",
       "      <th>NP</th>\n",
       "      <th>TEN</th>\n",
       "      <th>BLD</th>\n",
       "      <th>BDSP</th>\n",
       "      <th>RNTP</th>\n",
       "      <th>...</th>\n",
       "      <th>HINCP</th>\n",
       "      <th>SMOCP</th>\n",
       "      <th>GRNTP</th>\n",
       "      <th>GRPIP</th>\n",
       "      <th>OCPIP</th>\n",
       "      <th>KIT</th>\n",
       "      <th>PLM</th>\n",
       "      <th>hhd_size</th>\n",
       "      <th>pov_15</th>\n",
       "      <th>WGTPpov</th>\n",
       "    </tr>\n",
       "  </thead>\n",
       "  <tbody>\n",
       "    <tr>\n",
       "      <th>4</th>\n",
       "      <td>352</td>\n",
       "      <td>42</td>\n",
       "      <td>500</td>\n",
       "      <td>1000000</td>\n",
       "      <td>23</td>\n",
       "      <td>1</td>\n",
       "      <td>2.0</td>\n",
       "      <td>2.0</td>\n",
       "      <td>3.0</td>\n",
       "      <td>NaN</td>\n",
       "      <td>...</td>\n",
       "      <td>21700.0</td>\n",
       "      <td>755.0</td>\n",
       "      <td>NaN</td>\n",
       "      <td>NaN</td>\n",
       "      <td>42.0</td>\n",
       "      <td>1.0</td>\n",
       "      <td>1.0</td>\n",
       "      <td>1</td>\n",
       "      <td>11770.0</td>\n",
       "      <td>0</td>\n",
       "    </tr>\n",
       "    <tr>\n",
       "      <th>7</th>\n",
       "      <td>609</td>\n",
       "      <td>42</td>\n",
       "      <td>2901</td>\n",
       "      <td>1000000</td>\n",
       "      <td>93</td>\n",
       "      <td>1</td>\n",
       "      <td>1.0</td>\n",
       "      <td>2.0</td>\n",
       "      <td>2.0</td>\n",
       "      <td>NaN</td>\n",
       "      <td>...</td>\n",
       "      <td>30100.0</td>\n",
       "      <td>1053.0</td>\n",
       "      <td>NaN</td>\n",
       "      <td>NaN</td>\n",
       "      <td>42.0</td>\n",
       "      <td>1.0</td>\n",
       "      <td>1.0</td>\n",
       "      <td>1</td>\n",
       "      <td>11770.0</td>\n",
       "      <td>0</td>\n",
       "    </tr>\n",
       "    <tr>\n",
       "      <th>12</th>\n",
       "      <td>863</td>\n",
       "      <td>42</td>\n",
       "      <td>1501</td>\n",
       "      <td>1000000</td>\n",
       "      <td>49</td>\n",
       "      <td>1</td>\n",
       "      <td>2.0</td>\n",
       "      <td>2.0</td>\n",
       "      <td>3.0</td>\n",
       "      <td>NaN</td>\n",
       "      <td>...</td>\n",
       "      <td>58400.0</td>\n",
       "      <td>452.0</td>\n",
       "      <td>NaN</td>\n",
       "      <td>NaN</td>\n",
       "      <td>9.0</td>\n",
       "      <td>1.0</td>\n",
       "      <td>1.0</td>\n",
       "      <td>1</td>\n",
       "      <td>11770.0</td>\n",
       "      <td>0</td>\n",
       "    </tr>\n",
       "    <tr>\n",
       "      <th>15</th>\n",
       "      <td>1135</td>\n",
       "      <td>42</td>\n",
       "      <td>600</td>\n",
       "      <td>1000000</td>\n",
       "      <td>141</td>\n",
       "      <td>1</td>\n",
       "      <td>1.0</td>\n",
       "      <td>2.0</td>\n",
       "      <td>3.0</td>\n",
       "      <td>NaN</td>\n",
       "      <td>...</td>\n",
       "      <td>63200.0</td>\n",
       "      <td>1113.0</td>\n",
       "      <td>NaN</td>\n",
       "      <td>NaN</td>\n",
       "      <td>21.0</td>\n",
       "      <td>1.0</td>\n",
       "      <td>1.0</td>\n",
       "      <td>1</td>\n",
       "      <td>11770.0</td>\n",
       "      <td>0</td>\n",
       "    </tr>\n",
       "    <tr>\n",
       "      <th>16</th>\n",
       "      <td>1142</td>\n",
       "      <td>42</td>\n",
       "      <td>1803</td>\n",
       "      <td>1000000</td>\n",
       "      <td>87</td>\n",
       "      <td>1</td>\n",
       "      <td>2.0</td>\n",
       "      <td>2.0</td>\n",
       "      <td>3.0</td>\n",
       "      <td>NaN</td>\n",
       "      <td>...</td>\n",
       "      <td>14400.0</td>\n",
       "      <td>239.0</td>\n",
       "      <td>NaN</td>\n",
       "      <td>NaN</td>\n",
       "      <td>20.0</td>\n",
       "      <td>1.0</td>\n",
       "      <td>1.0</td>\n",
       "      <td>1</td>\n",
       "      <td>11770.0</td>\n",
       "      <td>0</td>\n",
       "    </tr>\n",
       "  </tbody>\n",
       "</table>\n",
       "<p>5 rows × 21 columns</p>\n",
       "</div>"
      ],
      "text/plain": [
       "    SERIALNO  ST  PUMA   ADJHSG  WGTP  NP  TEN  BLD  BDSP  RNTP   ...     \\\n",
       "4        352  42   500  1000000    23   1  2.0  2.0   3.0   NaN   ...      \n",
       "7        609  42  2901  1000000    93   1  1.0  2.0   2.0   NaN   ...      \n",
       "12       863  42  1501  1000000    49   1  2.0  2.0   3.0   NaN   ...      \n",
       "15      1135  42   600  1000000   141   1  1.0  2.0   3.0   NaN   ...      \n",
       "16      1142  42  1803  1000000    87   1  2.0  2.0   3.0   NaN   ...      \n",
       "\n",
       "      HINCP   SMOCP  GRNTP  GRPIP  OCPIP  KIT  PLM  hhd_size   pov_15  WGTPpov  \n",
       "4   21700.0   755.0    NaN    NaN   42.0  1.0  1.0         1  11770.0        0  \n",
       "7   30100.0  1053.0    NaN    NaN   42.0  1.0  1.0         1  11770.0        0  \n",
       "12  58400.0   452.0    NaN    NaN    9.0  1.0  1.0         1  11770.0        0  \n",
       "15  63200.0  1113.0    NaN    NaN   21.0  1.0  1.0         1  11770.0        0  \n",
       "16  14400.0   239.0    NaN    NaN   20.0  1.0  1.0         1  11770.0        0  \n",
       "\n",
       "[5 rows x 21 columns]"
      ]
     },
     "execution_count": 26,
     "metadata": {},
     "output_type": "execute_result"
    }
   ],
   "source": [
    "## create new column that calculates # of homeowning households below poverty line\n",
    "\n",
    "# Create a new column called df15_hkp.WGTPpov where the value is the WGTP if df15_hkp.HINCP\n",
    "# is less than or equal to df15_hkp.pov_15 and 0 if not.\n",
    "df15_hkp['WGTPpov'] = df15_hkp['WGTP'].where(df15_hkp['HINCP']<=df15_hkp['pov_15'], 0)\n",
    "df15_hkp.head()"
   ]
  },
  {
   "cell_type": "code",
   "execution_count": 27,
   "metadata": {
    "collapsed": false
   },
   "outputs": [
    {
     "data": {
      "text/html": [
       "<div>\n",
       "<table border=\"1\" class=\"dataframe\">\n",
       "  <thead>\n",
       "    <tr style=\"text-align: right;\">\n",
       "      <th></th>\n",
       "      <th>WGTP</th>\n",
       "      <th>WGTPpov</th>\n",
       "    </tr>\n",
       "    <tr>\n",
       "      <th>PUMA</th>\n",
       "      <th></th>\n",
       "      <th></th>\n",
       "    </tr>\n",
       "  </thead>\n",
       "  <tbody>\n",
       "    <tr>\n",
       "      <th>101</th>\n",
       "      <td>22781</td>\n",
       "      <td>1967</td>\n",
       "    </tr>\n",
       "    <tr>\n",
       "      <th>102</th>\n",
       "      <td>47307</td>\n",
       "      <td>2105</td>\n",
       "    </tr>\n",
       "    <tr>\n",
       "      <th>200</th>\n",
       "      <td>37881</td>\n",
       "      <td>2203</td>\n",
       "    </tr>\n",
       "    <tr>\n",
       "      <th>300</th>\n",
       "      <td>52268</td>\n",
       "      <td>3613</td>\n",
       "    </tr>\n",
       "    <tr>\n",
       "      <th>400</th>\n",
       "      <td>31859</td>\n",
       "      <td>2524</td>\n",
       "    </tr>\n",
       "  </tbody>\n",
       "</table>\n",
       "</div>"
      ],
      "text/plain": [
       "       WGTP  WGTPpov\n",
       "PUMA                \n",
       "101   22781     1967\n",
       "102   47307     2105\n",
       "200   37881     2203\n",
       "300   52268     3613\n",
       "400   31859     2524"
      ]
     },
     "execution_count": 27,
     "metadata": {},
     "output_type": "execute_result"
    }
   ],
   "source": [
    "# group by PUMA and sum the total hhds (WGTP) and the hhds in poverty (WGTPpov)\n",
    "\n",
    "#group by PUMA\n",
    "grp = df15_hkp.groupby([\"PUMA\"])\n",
    "\n",
    "#calculate totals by PUMA of hhds and hhds in poverty\n",
    "df15h_pov = grp[['WGTP','WGTPpov']].sum()\n",
    "df15h_pov.head()"
   ]
  },
  {
   "cell_type": "code",
   "execution_count": 28,
   "metadata": {
    "collapsed": false
   },
   "outputs": [
    {
     "data": {
      "text/html": [
       "<div>\n",
       "<table border=\"1\" class=\"dataframe\">\n",
       "  <thead>\n",
       "    <tr style=\"text-align: right;\">\n",
       "      <th></th>\n",
       "      <th>WGTP</th>\n",
       "      <th>WGTPpov</th>\n",
       "      <th>PCTpov</th>\n",
       "    </tr>\n",
       "    <tr>\n",
       "      <th>PUMA</th>\n",
       "      <th></th>\n",
       "      <th></th>\n",
       "      <th></th>\n",
       "    </tr>\n",
       "  </thead>\n",
       "  <tbody>\n",
       "    <tr>\n",
       "      <th>101</th>\n",
       "      <td>22781</td>\n",
       "      <td>1967</td>\n",
       "      <td>8.634388</td>\n",
       "    </tr>\n",
       "    <tr>\n",
       "      <th>102</th>\n",
       "      <td>47307</td>\n",
       "      <td>2105</td>\n",
       "      <td>4.449659</td>\n",
       "    </tr>\n",
       "    <tr>\n",
       "      <th>200</th>\n",
       "      <td>37881</td>\n",
       "      <td>2203</td>\n",
       "      <td>5.815580</td>\n",
       "    </tr>\n",
       "    <tr>\n",
       "      <th>300</th>\n",
       "      <td>52268</td>\n",
       "      <td>3613</td>\n",
       "      <td>6.912451</td>\n",
       "    </tr>\n",
       "    <tr>\n",
       "      <th>400</th>\n",
       "      <td>31859</td>\n",
       "      <td>2524</td>\n",
       "      <td>7.922408</td>\n",
       "    </tr>\n",
       "  </tbody>\n",
       "</table>\n",
       "</div>"
      ],
      "text/plain": [
       "       WGTP  WGTPpov    PCTpov\n",
       "PUMA                          \n",
       "101   22781     1967  8.634388\n",
       "102   47307     2105  4.449659\n",
       "200   37881     2203  5.815580\n",
       "300   52268     3613  6.912451\n",
       "400   31859     2524  7.922408"
      ]
     },
     "execution_count": 28,
     "metadata": {},
     "output_type": "execute_result"
    }
   ],
   "source": [
    "# create new column with WGTPpov/WGTP to get % homeowner hhds in poverty\n",
    "df15h_pov['PCTpov'] = (df15h_pov['WGTPpov'] / df15h_pov['WGTP'])*100\n",
    "df15h_pov.head()"
   ]
  },
  {
   "cell_type": "code",
   "execution_count": 29,
   "metadata": {
    "collapsed": true
   },
   "outputs": [],
   "source": [
    "# export percent of homeowning households below poverty line by PUMA\n",
    "df15h_pov.to_csv('15h_poverty.csv')"
   ]
  },
  {
   "cell_type": "markdown",
   "metadata": {},
   "source": [
    "## Do some magic (math) to aggregate data at puma"
   ]
  },
  {
   "cell_type": "code",
   "execution_count": 29,
   "metadata": {
    "collapsed": false
   },
   "outputs": [
    {
     "name": "stdout",
     "output_type": "stream",
     "text": [
      "PUMA\n",
      "101    73.897104\n",
      "102    63.848123\n",
      "200    55.316951\n",
      "300    61.539722\n",
      "400    55.092964\n",
      "dtype: float64 \n",
      " PUMA\n",
      "101    93.0\n",
      "102    63.0\n",
      "200    55.0\n",
      "300    51.0\n",
      "400    51.0\n",
      "dtype: float64 \n",
      " PUMA\n",
      "101    101.0\n",
      "102     71.0\n",
      "200     80.0\n",
      "300    101.0\n",
      "400     82.0\n",
      "dtype: float64\n"
     ]
    }
   ],
   "source": [
    "# add weights to calculator\n",
    "calc = wc.Calculator(\"WGTP\")\n",
    "\n",
    "#group by PUMA\n",
    "grp = df15h_need.groupby([\"PUMA\"])\n",
    "\n",
    "#calculate weighted average of housing cost burden for ea puma\n",
    "df15h_need_avg = calc.mean(grp, 'OCPIP')\n",
    "\n",
    "#calculate weighted median of housing cost burden for ea puma\n",
    "df15h_need_med = calc.median(grp, 'OCPIP')\n",
    "\n",
    "#calculate weighted bottom 25th (neediest 25th percentile) quartile\n",
    "df15h_need_25 = calc.quantile(grp, 'OCPIP', .75)\n",
    "\n",
    "#COMPARE\n",
    "print(df15h_need_avg.head(), '\\n', df15h_need_med.head(),'\\n',df15h_need_25.head())"
   ]
  },
  {
   "cell_type": "code",
   "execution_count": 30,
   "metadata": {
    "collapsed": true
   },
   "outputs": [],
   "source": [
    "# export weighted median of homeowner housing cost burden for ea puma\n",
    "df15h_need_med.to_csv('15h_need_med.csv')"
   ]
  },
  {
   "cell_type": "markdown",
   "metadata": {},
   "source": [
    "## Filter for % homeowners with burden"
   ]
  },
  {
   "cell_type": "code",
   "execution_count": 31,
   "metadata": {
    "collapsed": false
   },
   "outputs": [
    {
     "name": "stdout",
     "output_type": "stream",
     "text": [
      "PA homeowning households below fed poverty line with burden over 30%: 1650\n"
     ]
    }
   ],
   "source": [
    "# filter where OCPIP is >= 30.0 to see total number of burdened hhds below poverty line\n",
    "df15h_burden = df15h_need[df15h_need['OCPIP']>=30.0]\n",
    "\n",
    "print(\"PA homeowning households below fed poverty line with burden over 30%:\", len(df15h_burden.index))"
   ]
  },
  {
   "cell_type": "code",
   "execution_count": 42,
   "metadata": {
    "collapsed": false
   },
   "outputs": [
    {
     "name": "stderr",
     "output_type": "stream",
     "text": [
      "/Users/phoebe/anaconda/lib/python3.6/site-packages/ipykernel/__main__.py:5: SettingWithCopyWarning: \n",
      "A value is trying to be set on a copy of a slice from a DataFrame.\n",
      "Try using .loc[row_indexer,col_indexer] = value instead\n",
      "\n",
      "See the caveats in the documentation: http://pandas.pydata.org/pandas-docs/stable/indexing.html#indexing-view-versus-copy\n"
     ]
    },
    {
     "data": {
      "text/html": [
       "<div>\n",
       "<table border=\"1\" class=\"dataframe\">\n",
       "  <thead>\n",
       "    <tr style=\"text-align: right;\">\n",
       "      <th></th>\n",
       "      <th>SERIALNO</th>\n",
       "      <th>ST</th>\n",
       "      <th>PUMA</th>\n",
       "      <th>ADJHSG</th>\n",
       "      <th>WGTP</th>\n",
       "      <th>NP</th>\n",
       "      <th>TEN</th>\n",
       "      <th>BLD</th>\n",
       "      <th>BDSP</th>\n",
       "      <th>RNTP</th>\n",
       "      <th>...</th>\n",
       "      <th>HINCP</th>\n",
       "      <th>SMOCP</th>\n",
       "      <th>GRNTP</th>\n",
       "      <th>GRPIP</th>\n",
       "      <th>OCPIP</th>\n",
       "      <th>KIT</th>\n",
       "      <th>PLM</th>\n",
       "      <th>hhd_size</th>\n",
       "      <th>pov_15</th>\n",
       "      <th>WGTP30</th>\n",
       "    </tr>\n",
       "  </thead>\n",
       "  <tbody>\n",
       "    <tr>\n",
       "      <th>19</th>\n",
       "      <td>1409</td>\n",
       "      <td>42</td>\n",
       "      <td>200</td>\n",
       "      <td>1000000</td>\n",
       "      <td>37</td>\n",
       "      <td>1</td>\n",
       "      <td>2.0</td>\n",
       "      <td>1.0</td>\n",
       "      <td>3.0</td>\n",
       "      <td>NaN</td>\n",
       "      <td>...</td>\n",
       "      <td>10800.0</td>\n",
       "      <td>158.0</td>\n",
       "      <td>NaN</td>\n",
       "      <td>NaN</td>\n",
       "      <td>18.0</td>\n",
       "      <td>1.0</td>\n",
       "      <td>1.0</td>\n",
       "      <td>1</td>\n",
       "      <td>11770.0</td>\n",
       "      <td>0</td>\n",
       "    </tr>\n",
       "    <tr>\n",
       "      <th>25</th>\n",
       "      <td>1692</td>\n",
       "      <td>42</td>\n",
       "      <td>500</td>\n",
       "      <td>1000000</td>\n",
       "      <td>24</td>\n",
       "      <td>1</td>\n",
       "      <td>2.0</td>\n",
       "      <td>2.0</td>\n",
       "      <td>5.0</td>\n",
       "      <td>NaN</td>\n",
       "      <td>...</td>\n",
       "      <td>8400.0</td>\n",
       "      <td>549.0</td>\n",
       "      <td>NaN</td>\n",
       "      <td>NaN</td>\n",
       "      <td>78.0</td>\n",
       "      <td>1.0</td>\n",
       "      <td>1.0</td>\n",
       "      <td>1</td>\n",
       "      <td>11770.0</td>\n",
       "      <td>24</td>\n",
       "    </tr>\n",
       "    <tr>\n",
       "      <th>48</th>\n",
       "      <td>3348</td>\n",
       "      <td>42</td>\n",
       "      <td>2402</td>\n",
       "      <td>1000000</td>\n",
       "      <td>25</td>\n",
       "      <td>1</td>\n",
       "      <td>2.0</td>\n",
       "      <td>2.0</td>\n",
       "      <td>3.0</td>\n",
       "      <td>NaN</td>\n",
       "      <td>...</td>\n",
       "      <td>5400.0</td>\n",
       "      <td>543.0</td>\n",
       "      <td>NaN</td>\n",
       "      <td>NaN</td>\n",
       "      <td>101.0</td>\n",
       "      <td>1.0</td>\n",
       "      <td>1.0</td>\n",
       "      <td>1</td>\n",
       "      <td>11770.0</td>\n",
       "      <td>25</td>\n",
       "    </tr>\n",
       "    <tr>\n",
       "      <th>112</th>\n",
       "      <td>6827</td>\n",
       "      <td>42</td>\n",
       "      <td>1600</td>\n",
       "      <td>1000000</td>\n",
       "      <td>15</td>\n",
       "      <td>1</td>\n",
       "      <td>1.0</td>\n",
       "      <td>2.0</td>\n",
       "      <td>4.0</td>\n",
       "      <td>NaN</td>\n",
       "      <td>...</td>\n",
       "      <td>10200.0</td>\n",
       "      <td>1003.0</td>\n",
       "      <td>NaN</td>\n",
       "      <td>NaN</td>\n",
       "      <td>101.0</td>\n",
       "      <td>1.0</td>\n",
       "      <td>1.0</td>\n",
       "      <td>1</td>\n",
       "      <td>11770.0</td>\n",
       "      <td>15</td>\n",
       "    </tr>\n",
       "    <tr>\n",
       "      <th>123</th>\n",
       "      <td>7246</td>\n",
       "      <td>42</td>\n",
       "      <td>3207</td>\n",
       "      <td>1000000</td>\n",
       "      <td>337</td>\n",
       "      <td>1</td>\n",
       "      <td>2.0</td>\n",
       "      <td>3.0</td>\n",
       "      <td>2.0</td>\n",
       "      <td>NaN</td>\n",
       "      <td>...</td>\n",
       "      <td>5000.0</td>\n",
       "      <td>240.0</td>\n",
       "      <td>NaN</td>\n",
       "      <td>NaN</td>\n",
       "      <td>58.0</td>\n",
       "      <td>1.0</td>\n",
       "      <td>1.0</td>\n",
       "      <td>1</td>\n",
       "      <td>11770.0</td>\n",
       "      <td>337</td>\n",
       "    </tr>\n",
       "  </tbody>\n",
       "</table>\n",
       "<p>5 rows × 21 columns</p>\n",
       "</div>"
      ],
      "text/plain": [
       "     SERIALNO  ST  PUMA   ADJHSG  WGTP  NP  TEN  BLD  BDSP  RNTP   ...    \\\n",
       "19       1409  42   200  1000000    37   1  2.0  1.0   3.0   NaN   ...     \n",
       "25       1692  42   500  1000000    24   1  2.0  2.0   5.0   NaN   ...     \n",
       "48       3348  42  2402  1000000    25   1  2.0  2.0   3.0   NaN   ...     \n",
       "112      6827  42  1600  1000000    15   1  1.0  2.0   4.0   NaN   ...     \n",
       "123      7246  42  3207  1000000   337   1  2.0  3.0   2.0   NaN   ...     \n",
       "\n",
       "       HINCP   SMOCP  GRNTP  GRPIP  OCPIP  KIT  PLM  hhd_size   pov_15  WGTP30  \n",
       "19   10800.0   158.0    NaN    NaN   18.0  1.0  1.0         1  11770.0       0  \n",
       "25    8400.0   549.0    NaN    NaN   78.0  1.0  1.0         1  11770.0      24  \n",
       "48    5400.0   543.0    NaN    NaN  101.0  1.0  1.0         1  11770.0      25  \n",
       "112  10200.0  1003.0    NaN    NaN  101.0  1.0  1.0         1  11770.0      15  \n",
       "123   5000.0   240.0    NaN    NaN   58.0  1.0  1.0         1  11770.0     337  \n",
       "\n",
       "[5 rows x 21 columns]"
      ]
     },
     "execution_count": 42,
     "metadata": {},
     "output_type": "execute_result"
    }
   ],
   "source": [
    "## create new column that calculates % of households below poverty with burden\n",
    "\n",
    "# Create a new column called df15h_need.WGTP30 where the value is the WGTP if df15h_need.OCPIP\n",
    "# is greater than or equal to 30 and 0 if not.\n",
    "df15h_need['WGTP30'] = df15h_need['WGTP'].where(df15h_need['OCPIP']>=30.0, 0)\n",
    "df15h_need.head()"
   ]
  },
  {
   "cell_type": "code",
   "execution_count": 43,
   "metadata": {
    "collapsed": false
   },
   "outputs": [
    {
     "data": {
      "text/html": [
       "<div>\n",
       "<table border=\"1\" class=\"dataframe\">\n",
       "  <thead>\n",
       "    <tr style=\"text-align: right;\">\n",
       "      <th></th>\n",
       "      <th>WGTP</th>\n",
       "      <th>WGTP30</th>\n",
       "    </tr>\n",
       "    <tr>\n",
       "      <th>PUMA</th>\n",
       "      <th></th>\n",
       "      <th></th>\n",
       "    </tr>\n",
       "  </thead>\n",
       "  <tbody>\n",
       "    <tr>\n",
       "      <th>101</th>\n",
       "      <td>1623</td>\n",
       "      <td>1212</td>\n",
       "    </tr>\n",
       "    <tr>\n",
       "      <th>102</th>\n",
       "      <td>1758</td>\n",
       "      <td>1593</td>\n",
       "    </tr>\n",
       "    <tr>\n",
       "      <th>200</th>\n",
       "      <td>1994</td>\n",
       "      <td>1409</td>\n",
       "    </tr>\n",
       "    <tr>\n",
       "      <th>300</th>\n",
       "      <td>3235</td>\n",
       "      <td>2612</td>\n",
       "    </tr>\n",
       "    <tr>\n",
       "      <th>400</th>\n",
       "      <td>2345</td>\n",
       "      <td>1841</td>\n",
       "    </tr>\n",
       "  </tbody>\n",
       "</table>\n",
       "</div>"
      ],
      "text/plain": [
       "      WGTP  WGTP30\n",
       "PUMA              \n",
       "101   1623    1212\n",
       "102   1758    1593\n",
       "200   1994    1409\n",
       "300   3235    2612\n",
       "400   2345    1841"
      ]
     },
     "execution_count": 43,
     "metadata": {},
     "output_type": "execute_result"
    }
   ],
   "source": [
    "# group by PUMA and sum the total hhds (WGTP) and the hhds with burden over 30 (WGTP30)\n",
    "\n",
    "#group by PUMA\n",
    "grp = df15h_need.groupby([\"PUMA\"])\n",
    "\n",
    "#calculate totals by PUMA of hhds and hhds with burden over 30%\n",
    "df15h_totals = grp[['WGTP','WGTP30']].sum()\n",
    "df15h_totals.head()"
   ]
  },
  {
   "cell_type": "code",
   "execution_count": 44,
   "metadata": {
    "collapsed": false
   },
   "outputs": [
    {
     "data": {
      "text/html": [
       "<div>\n",
       "<table border=\"1\" class=\"dataframe\">\n",
       "  <thead>\n",
       "    <tr style=\"text-align: right;\">\n",
       "      <th></th>\n",
       "      <th>WGTP</th>\n",
       "      <th>WGTP30</th>\n",
       "      <th>PCTburden30</th>\n",
       "    </tr>\n",
       "    <tr>\n",
       "      <th>PUMA</th>\n",
       "      <th></th>\n",
       "      <th></th>\n",
       "      <th></th>\n",
       "    </tr>\n",
       "  </thead>\n",
       "  <tbody>\n",
       "    <tr>\n",
       "      <th>101</th>\n",
       "      <td>1623</td>\n",
       "      <td>1212</td>\n",
       "      <td>74.676525</td>\n",
       "    </tr>\n",
       "    <tr>\n",
       "      <th>102</th>\n",
       "      <td>1758</td>\n",
       "      <td>1593</td>\n",
       "      <td>90.614334</td>\n",
       "    </tr>\n",
       "    <tr>\n",
       "      <th>200</th>\n",
       "      <td>1994</td>\n",
       "      <td>1409</td>\n",
       "      <td>70.661986</td>\n",
       "    </tr>\n",
       "    <tr>\n",
       "      <th>300</th>\n",
       "      <td>3235</td>\n",
       "      <td>2612</td>\n",
       "      <td>80.741886</td>\n",
       "    </tr>\n",
       "    <tr>\n",
       "      <th>400</th>\n",
       "      <td>2345</td>\n",
       "      <td>1841</td>\n",
       "      <td>78.507463</td>\n",
       "    </tr>\n",
       "  </tbody>\n",
       "</table>\n",
       "</div>"
      ],
      "text/plain": [
       "      WGTP  WGTP30  PCTburden30\n",
       "PUMA                           \n",
       "101   1623    1212    74.676525\n",
       "102   1758    1593    90.614334\n",
       "200   1994    1409    70.661986\n",
       "300   3235    2612    80.741886\n",
       "400   2345    1841    78.507463"
      ]
     },
     "execution_count": 44,
     "metadata": {},
     "output_type": "execute_result"
    }
   ],
   "source": [
    "# create new column with WGTP30/WGTP to get % hhds with burden over 30\n",
    "df15h_totals['PCTburden30'] = (df15h_totals['WGTP30'] / df15h_totals['WGTP'])*100\n",
    "df15h_totals.head()"
   ]
  },
  {
   "cell_type": "code",
   "execution_count": 45,
   "metadata": {
    "collapsed": true
   },
   "outputs": [],
   "source": [
    "# export percent of homeowning households below poverty line who are burdened above 30% by PUMA\n",
    "df15h_totals.to_csv('15h_totalsburden30.csv')"
   ]
  },
  {
   "cell_type": "markdown",
   "metadata": {},
   "source": [
    "## ignore things below this line for now"
   ]
  },
  {
   "cell_type": "code",
   "execution_count": 36,
   "metadata": {
    "collapsed": false
   },
   "outputs": [
    {
     "ename": "NameError",
     "evalue": "name 'df_15_rkp' is not defined",
     "output_type": "error",
     "traceback": [
      "\u001b[0;31m---------------------------------------------------------------------------\u001b[0m",
      "\u001b[0;31mNameError\u001b[0m                                 Traceback (most recent call last)",
      "\u001b[0;32m<ipython-input-36-9f1c553de52c>\u001b[0m in \u001b[0;36m<module>\u001b[0;34m()\u001b[0m\n\u001b[1;32m     10\u001b[0m \u001b[0;34m\u001b[0m\u001b[0m\n\u001b[1;32m     11\u001b[0m \u001b[0;31m#merge with our df containing rental households with complete kitchen and plumbing...\u001b[0m\u001b[0;34m\u001b[0m\u001b[0;34m\u001b[0m\u001b[0m\n\u001b[0;32m---> 12\u001b[0;31m \u001b[0mdf_15_inc\u001b[0m \u001b[0;34m=\u001b[0m \u001b[0mdf_15_rkp\u001b[0m\u001b[0;34m.\u001b[0m\u001b[0mmerge\u001b[0m\u001b[0;34m(\u001b[0m\u001b[0mdfinc25\u001b[0m\u001b[0;34m,\u001b[0m \u001b[0mleft_on\u001b[0m\u001b[0;34m=\u001b[0m\u001b[0;34m'PUMA'\u001b[0m\u001b[0;34m,\u001b[0m \u001b[0mright_index\u001b[0m\u001b[0;34m=\u001b[0m\u001b[0;32mTrue\u001b[0m\u001b[0;34m)\u001b[0m\u001b[0;34m\u001b[0m\u001b[0m\n\u001b[0m\u001b[1;32m     13\u001b[0m \u001b[0;34m\u001b[0m\u001b[0m\n\u001b[1;32m     14\u001b[0m \u001b[0;31m#check that it worked!\u001b[0m\u001b[0;34m\u001b[0m\u001b[0;34m\u001b[0m\u001b[0m\n",
      "\u001b[0;31mNameError\u001b[0m: name 'df_15_rkp' is not defined"
     ]
    }
   ],
   "source": [
    "#calculate bottom 25th quartile of HH income for ea. PUMA\n",
    "s_inc25 = calc.quantile(grp,\"HINCP\", 0.25)\n",
    "\n",
    "########################### need to rework things below this line\n",
    "#convert panda series to df\n",
    "dfinc25= s_inc25.to_frame()\n",
    "\n",
    "#rename column so we know it refers to income threshold for bottom 25%\n",
    "dfinc25.columns = [\"INC25P\"]\n",
    "\n",
    "#merge with our df containing rental households with complete kitchen and plumbing...\n",
    "df_15_inc = df_15_rkp.merge(dfinc25, left_on='PUMA', right_index=True)\n",
    "\n",
    "#check that it worked!\n",
    "df_15_inc.head()\n"
   ]
  },
  {
   "cell_type": "code",
   "execution_count": 37,
   "metadata": {
    "collapsed": false
   },
   "outputs": [
    {
     "ename": "NameError",
     "evalue": "name 'df_15_inc' is not defined",
     "output_type": "error",
     "traceback": [
      "\u001b[0;31m---------------------------------------------------------------------------\u001b[0m",
      "\u001b[0;31mNameError\u001b[0m                                 Traceback (most recent call last)",
      "\u001b[0;32m<ipython-input-37-e142943b42bf>\u001b[0m in \u001b[0;36m<module>\u001b[0;34m()\u001b[0m\n\u001b[1;32m      1\u001b[0m \u001b[0;31m#filter out rows where household income is below bottom 25th quartile threshold\u001b[0m\u001b[0;34m\u001b[0m\u001b[0;34m\u001b[0m\u001b[0m\n\u001b[0;32m----> 2\u001b[0;31m \u001b[0mdf_15_bottom25\u001b[0m\u001b[0;34m=\u001b[0m \u001b[0mdf_15_inc\u001b[0m\u001b[0;34m[\u001b[0m\u001b[0;34m(\u001b[0m\u001b[0mdf_15_inc\u001b[0m\u001b[0;34m[\u001b[0m\u001b[0;34m'HINCP'\u001b[0m\u001b[0;34m]\u001b[0m\u001b[0;34m<=\u001b[0m \u001b[0mdf_15_inc\u001b[0m\u001b[0;34m[\u001b[0m\u001b[0;34m'INC25P'\u001b[0m\u001b[0;34m]\u001b[0m\u001b[0;34m)\u001b[0m\u001b[0;34m]\u001b[0m\u001b[0;34m\u001b[0m\u001b[0m\n\u001b[0m\u001b[1;32m      3\u001b[0m \u001b[0;34m\u001b[0m\u001b[0m\n\u001b[1;32m      4\u001b[0m \u001b[0mdf_15_bottom25\u001b[0m\u001b[0;34m\u001b[0m\u001b[0m\n",
      "\u001b[0;31mNameError\u001b[0m: name 'df_15_inc' is not defined"
     ]
    }
   ],
   "source": [
    "#filter out rows where household income is below bottom 25th quartile threshold\n",
    "df_15_bottom25= df_15_inc[(df_15_inc['HINCP']<= df_15_inc['INC25P'])]\n",
    "\n",
    "df_15_bottom25"
   ]
  },
  {
   "cell_type": "raw",
   "metadata": {},
   "source": []
  }
 ],
 "metadata": {
  "anaconda-cloud": {},
  "kernelspec": {
   "display_name": "Python 3",
   "language": "python",
   "name": "python3"
  },
  "language_info": {
   "codemirror_mode": {
    "name": "ipython",
    "version": 3
   },
   "file_extension": ".py",
   "mimetype": "text/x-python",
   "name": "python",
   "nbconvert_exporter": "python",
   "pygments_lexer": "ipython3",
   "version": "3.6.0"
  }
 },
 "nbformat": 4,
 "nbformat_minor": 0
}
